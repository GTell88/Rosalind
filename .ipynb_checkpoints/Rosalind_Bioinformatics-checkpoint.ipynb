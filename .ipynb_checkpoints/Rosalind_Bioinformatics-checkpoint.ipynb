{
 "cells": [
  {
   "cell_type": "markdown",
   "metadata": {},
   "source": [
    "# Import requirements"
   ]
  },
  {
   "cell_type": "code",
   "execution_count": 51,
   "metadata": {
    "collapsed": true
   },
   "outputs": [],
   "source": [
    "from __future__ import division"
   ]
  },
  {
   "cell_type": "markdown",
   "metadata": {},
   "source": [
    "# Counting DNA Nucleotides"
   ]
  },
  {
   "cell_type": "code",
   "execution_count": 55,
   "metadata": {
    "collapsed": false
   },
   "outputs": [],
   "source": [
    "with open('rosalind_dna.txt', 'r') as myfile:\n",
    "    s = myfile.read().replace('\\n', '')\n",
    "\n",
    "def count_dna_nucleotides(s):\n",
    "    a_count=0\n",
    "    c_count=0\n",
    "    g_count=0\n",
    "    t_count=0\n",
    "    for char in s:\n",
    "        if char == 'A':\n",
    "            a_count+=1\n",
    "        elif char == 'C':\n",
    "            c_count+=1\n",
    "        elif char == 'G':\n",
    "            g_count+=1\n",
    "        elif char == 'T':\n",
    "            t_count+=1\n",
    "        else:\n",
    "            None\n",
    "    return a_count, c_count, g_count, t_count\n",
    "\n",
    "answer = count_dna_nucleotides(s)"
   ]
  },
  {
   "cell_type": "markdown",
   "metadata": {},
   "source": [
    "# Transcribing DNA into RNA"
   ]
  },
  {
   "cell_type": "code",
   "execution_count": 56,
   "metadata": {
    "collapsed": false
   },
   "outputs": [],
   "source": [
    "with open('rosalind_rna.txt', 'r') as myfile:\n",
    "    s = myfile.read().replace('\\n', '')\n",
    "\n",
    "def dna_to_rna(s):\n",
    "    s = s.replace('T','U')\n",
    "    return s\n",
    "\n",
    "answer = dna_to_rna(s)"
   ]
  },
  {
   "cell_type": "markdown",
   "metadata": {},
   "source": [
    "# Reverse Complement of DNA"
   ]
  },
  {
   "cell_type": "code",
   "execution_count": 57,
   "metadata": {
    "collapsed": false
   },
   "outputs": [],
   "source": [
    "with open('rosalind_revc.txt', 'r') as myfile:\n",
    "    s = myfile.read().replace('\\n', '')\n",
    "    \n",
    "def dna_reverse_complement(s):\n",
    "    reverse = s[::-1]\n",
    "    reverse_comp = ''\n",
    "    for b in reverse:\n",
    "        if b == 'A':\n",
    "            reverse_comp += 'T'\n",
    "        elif b == 'C':\n",
    "            reverse_comp += 'G'\n",
    "        elif b == 'G':\n",
    "            reverse_comp += 'C'\n",
    "        elif b == 'T':\n",
    "            reverse_comp += 'A'\n",
    "        else:\n",
    "            None\n",
    "    return reverse_comp\n",
    "    \n",
    "answer = dna_reverse_complement(s)"
   ]
  },
  {
   "cell_type": "markdown",
   "metadata": {},
   "source": [
    "# Rabbits and Recurrence Relations"
   ]
  },
  {
   "cell_type": "code",
   "execution_count": 58,
   "metadata": {
    "collapsed": false
   },
   "outputs": [],
   "source": [
    "with open('rosalind_fib.txt', 'r') as myfile:\n",
    "    s = myfile.read().replace('\\n', '')\n",
    "    \n",
    "n = int(s.split(' ')[0])\n",
    "k = int(s.split(' ')[1])\n",
    "\n",
    "def count_rabbits(n,k):\n",
    "    immature = 1\n",
    "    mature = 0\n",
    "    for i in range(n):\n",
    "        new_mature = immature\n",
    "        immature = mature*k\n",
    "        mature = mature + new_mature\n",
    "        total = mature + immature\n",
    "        if i == n-2:\n",
    "            return total\n",
    "        \n",
    "answer = count_rabbits(n,k)"
   ]
  },
  {
   "cell_type": "markdown",
   "metadata": {},
   "source": [
    "# Computing GC Content"
   ]
  },
  {
   "cell_type": "code",
   "execution_count": 21,
   "metadata": {
    "collapsed": false
   },
   "outputs": [
    {
     "name": "stdout",
     "output_type": "stream",
     "text": [
      "Rosalind_8123\n",
      "52.7233115468\n"
     ]
    }
   ],
   "source": [
    "from Bio import SeqIO\n",
    "\n",
    "def calc_GC_content(s):\n",
    "    cg_count = 0\n",
    "    for base in s:\n",
    "        if base=='C' or base=='G':\n",
    "            cg_count+=1\n",
    "        else:\n",
    "            None\n",
    "    return cg_count / len(s)\n",
    "\n",
    "max_CG_id = ''\n",
    "max_CG_content = 0\n",
    "for seqrecord in SeqIO.parse('rosalind_gc.txt','fasta'):\n",
    "    seq_id, sequence = seqrecord.id, seqrecord.seq.tostring()\n",
    "    cg_content = calc_GC_content(sequence)\n",
    "    if cg_content > max_CG_content:\n",
    "        max_CG_content = cg_content\n",
    "        max_CG_id = seq_id\n",
    "print max_CG_id\n",
    "print max_CG_content*100"
   ]
  },
  {
   "cell_type": "markdown",
   "metadata": {},
   "source": [
    "# Counting Point Mutations"
   ]
  },
  {
   "cell_type": "code",
   "execution_count": 50,
   "metadata": {
    "collapsed": false
   },
   "outputs": [
    {
     "data": {
      "text/plain": [
       "484"
      ]
     },
     "execution_count": 50,
     "metadata": {},
     "output_type": "execute_result"
    }
   ],
   "source": [
    "with open('rosalind_hamm.txt', 'r') as myfile:\n",
    "    x = myfile.read()\n",
    "s = x.split('\\n')[0]\n",
    "t = x.split('\\n')[1]\n",
    "\n",
    "def hamming_distance(s,t):\n",
    "    h = 0\n",
    "    for i in range(len(s)):\n",
    "        if s[i] != t[i]:\n",
    "            h += 1\n",
    "        else:\n",
    "            None\n",
    "    return h\n",
    "\n",
    "hamming_distance(s,t)"
   ]
  },
  {
   "cell_type": "markdown",
   "metadata": {},
   "source": [
    "# Translating RNA into Protein"
   ]
  },
  {
   "cell_type": "code",
   "execution_count": 66,
   "metadata": {
    "collapsed": false
   },
   "outputs": [],
   "source": [
    "from Bio.Seq import Seq\n",
    "from Bio.Alphabet import generic_rna\n",
    "\n",
    "with open('rosalind_prot.txt', 'r') as myfile:\n",
    "    s = myfile.read().replace('\\n', '')\n",
    "\n",
    "messenger_rna = Seq(s, generic_rna)\n",
    "aa_record = messenger_rna.translate(to_stop=True)\n",
    "aa = aa_record.tostring()"
   ]
  },
  {
   "cell_type": "markdown",
   "metadata": {},
   "source": [
    "# Finding a Motif in DNA"
   ]
  },
  {
   "cell_type": "code",
   "execution_count": 91,
   "metadata": {
    "collapsed": false
   },
   "outputs": [
    {
     "name": "stdout",
     "output_type": "stream",
     "text": [
      "12 134 216 280 322 616 623 630 648 655 697 704 764 779 863 904 911 918 925\n"
     ]
    }
   ],
   "source": [
    "import re \n",
    "\n",
    "with open('rosalind_subs.txt', 'r') as myfile:\n",
    "    x = myfile.read()\n",
    "    \n",
    "s = x.split('\\n')[0]\n",
    "t = x.split('\\n')[1]\n",
    "q = '(?='+t+')'\n",
    "\n",
    "answer = [i.start() + 1 for i in re.finditer(q, s)]\n",
    "for idx in answer:\n",
    "    print idx,"
   ]
  },
  {
   "cell_type": "markdown",
   "metadata": {},
   "source": [
    "# Mendel's First Law"
   ]
  },
  {
   "cell_type": "code",
   "execution_count": 112,
   "metadata": {
    "collapsed": false
   },
   "outputs": [
    {
     "data": {
      "text/plain": [
       "['22', '17', '30']"
      ]
     },
     "execution_count": 112,
     "metadata": {},
     "output_type": "execute_result"
    }
   ],
   "source": [
    "with open('rosalind_iprb.txt', 'r') as myfile:\n",
    "    x = myfile.read().replace('\\n', '')\n",
    "    \n",
    "k = x.split()[0]\n",
    "m = x.split()[1]\n",
    "n = x.split()[2]"
   ]
  },
  {
   "cell_type": "code",
   "execution_count": 108,
   "metadata": {
    "collapsed": false
   },
   "outputs": [
    {
     "name": "stdout",
     "output_type": "stream",
     "text": [
      "2 0.333333333333 0.2 0.0666666666667\n"
     ]
    }
   ],
   "source": [
    "k = 2 #homozygous dominant\n",
    "m = 2 #heterozygous\n",
    "n = 2# homozygos recessive\n",
    "\n"
   ]
  },
  {
   "cell_type": "code",
   "execution_count": null,
   "metadata": {
    "collapsed": true
   },
   "outputs": [],
   "source": []
  }
 ],
 "metadata": {
  "kernelspec": {
   "display_name": "Python 2",
   "language": "python",
   "name": "python2"
  },
  "language_info": {
   "codemirror_mode": {
    "name": "ipython",
    "version": 2
   },
   "file_extension": ".py",
   "mimetype": "text/x-python",
   "name": "python",
   "nbconvert_exporter": "python",
   "pygments_lexer": "ipython2",
   "version": "2.7.11"
  }
 },
 "nbformat": 4,
 "nbformat_minor": 0
}
